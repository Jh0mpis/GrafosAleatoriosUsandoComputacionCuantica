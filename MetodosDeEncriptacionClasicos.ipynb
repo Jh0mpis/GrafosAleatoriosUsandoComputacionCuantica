{
 "cells": [
  {
   "cell_type": "markdown",
   "id": "0873a277",
   "metadata": {},
   "source": [
    "# Método de encriptación clásica ROT N\n",
    "\n",
    "Uno de los métodos de encriptación más básicos es el ROT13, en este método cada letra de una palabra es cambiada por otra letra que está a una distancia de 13 de sí misma. Este método puede ser extendido a un ROT N, donde se desplaza cada letra de una palabra una distancia N. Por ejemplo:\n",
    "\n",
    "<center>\n",
    "    \n",
    "    Abecedario sin permutar = abcdefghijklmnopqrstuvwxyz, \n",
    "\n",
    "    Abecedario ROT13        = nopqrstuvwxyzabcdefghijklm,\n",
    "\n",
    "    Abecedario ROT5         = fghijklmnopqrstuvwxyzabcde,\n",
    "</center>\n",
    "\n",
    "Un ejemplo de su aplicación se puede ver a continuación"
   ]
  },
  {
   "cell_type": "code",
   "execution_count": 3,
   "id": "c1c82fd8",
   "metadata": {},
   "outputs": [],
   "source": [
    "from util import *\n",
    "import random as rand\n",
    "import pandas as pd"
   ]
  },
  {
   "cell_type": "code",
   "execution_count": 4,
   "id": "9dd74da2",
   "metadata": {},
   "outputs": [
    {
     "data": {
      "text/html": [
       "<div>\n",
       "<style scoped>\n",
       "    .dataframe tbody tr th:only-of-type {\n",
       "        vertical-align: middle;\n",
       "    }\n",
       "\n",
       "    .dataframe tbody tr th {\n",
       "        vertical-align: top;\n",
       "    }\n",
       "\n",
       "    .dataframe thead th {\n",
       "        text-align: right;\n",
       "    }\n",
       "</style>\n",
       "<table border=\"1\" class=\"dataframe\">\n",
       "  <thead>\n",
       "    <tr style=\"text-align: right;\">\n",
       "      <th></th>\n",
       "      <th>N</th>\n",
       "      <th>Palabra oríginal</th>\n",
       "      <th>Palabra ROT</th>\n",
       "      <th>Palabra devuelta</th>\n",
       "    </tr>\n",
       "  </thead>\n",
       "  <tbody>\n",
       "    <tr>\n",
       "      <th>0</th>\n",
       "      <td>18</td>\n",
       "      <td>Hola Mundo</td>\n",
       "      <td>Zgds Emfvg</td>\n",
       "      <td>Hola Mundo</td>\n",
       "    </tr>\n",
       "    <tr>\n",
       "      <th>1</th>\n",
       "      <td>6</td>\n",
       "      <td>Quantum Computing</td>\n",
       "      <td>Wagtzas Iusvazotm</td>\n",
       "      <td>Quantum Computing</td>\n",
       "    </tr>\n",
       "    <tr>\n",
       "      <th>2</th>\n",
       "      <td>16</td>\n",
       "      <td>Hackaton</td>\n",
       "      <td>Xqsaqjed</td>\n",
       "      <td>Hackaton</td>\n",
       "    </tr>\n",
       "    <tr>\n",
       "      <th>3</th>\n",
       "      <td>3</td>\n",
       "      <td>Aplicando ROTN</td>\n",
       "      <td>Dsolfdqgr URWQ</td>\n",
       "      <td>Aplicando ROTN</td>\n",
       "    </tr>\n",
       "  </tbody>\n",
       "</table>\n",
       "</div>"
      ],
      "text/plain": [
       "    N   Palabra oríginal        Palabra ROT   Palabra devuelta\n",
       "0  18         Hola Mundo         Zgds Emfvg         Hola Mundo\n",
       "1   6  Quantum Computing  Wagtzas Iusvazotm  Quantum Computing\n",
       "2  16           Hackaton           Xqsaqjed           Hackaton\n",
       "3   3     Aplicando ROTN     Dsolfdqgr URWQ     Aplicando ROTN"
      ]
     },
     "execution_count": 4,
     "metadata": {},
     "output_type": "execute_result"
    }
   ],
   "source": [
    "words = [\"Hola Mundo\", \"Quantum Computing\", \"Hackaton\", \"Aplicando ROTN\"]\n",
    "n = [rand.randint(1,26) for i in words]\n",
    "ROTWords = [ROT(n[i],words[i]) for i in range(len(n))]\n",
    "invertROT = [ROT(26-n[i],ROTWords[i]) for i in range(len(n))]\n",
    "datosROTN = {\"N\": n,\"Palabra oríginal\": words,\n",
    "             \"Palabra ROT\" : ROTWords,\n",
    "             \"Palabra devuelta\" : invertROT}\n",
    "pd.DataFrame(datosROTN)"
   ]
  },
  {
   "cell_type": "markdown",
   "id": "22aad5be",
   "metadata": {},
   "source": [
    "## ROT N aplicado con un árbol binario de nodos constantes"
   ]
  },
  {
   "cell_type": "markdown",
   "id": "99bc16cd",
   "metadata": {},
   "source": [
    "Si bien el algóritmo es sencillo, este puede complicarse haciendo uso de árboles binarios con profundidad $n+1$ con n la longitud de la palabra. El método consiste en almacenar en cada nodo del árbol binario un número entero el cual define el ROT que se aplicará a cada elemento de la cadena de texto original, haciendo esto más complejo el algóritmo."
   ]
  },
  {
   "cell_type": "markdown",
   "id": "5848072f",
   "metadata": {},
   "source": [
    "A continuación, se aplicará el método con un árbol binario cuyos nodos no contienen un número entero aleatorio sino que todos los nodos que estén al mismo lado de la correspondiente raiz tienen el mismo número entero asignado."
   ]
  },
  {
   "cell_type": "code",
   "execution_count": 12,
   "id": "f407108f",
   "metadata": {},
   "outputs": [
    {
     "data": {
      "text/html": [
       "<div>\n",
       "<style scoped>\n",
       "    .dataframe tbody tr th:only-of-type {\n",
       "        vertical-align: middle;\n",
       "    }\n",
       "\n",
       "    .dataframe tbody tr th {\n",
       "        vertical-align: top;\n",
       "    }\n",
       "\n",
       "    .dataframe thead th {\n",
       "        text-align: right;\n",
       "    }\n",
       "</style>\n",
       "<table border=\"1\" class=\"dataframe\">\n",
       "  <thead>\n",
       "    <tr style=\"text-align: right;\">\n",
       "      <th></th>\n",
       "      <th>Palabra oríginal</th>\n",
       "      <th>Palabra ROT</th>\n",
       "      <th>Recorrido</th>\n",
       "      <th>Palabra devuelta</th>\n",
       "    </tr>\n",
       "  </thead>\n",
       "  <tbody>\n",
       "    <tr>\n",
       "      <th>0</th>\n",
       "      <td>Hola Mundo</td>\n",
       "      <td>Cjgw Hpizk</td>\n",
       "      <td>[21, 21, 21, 22, 21, 21, 21, 21, 22, 22]</td>\n",
       "      <td>Hola Mundo</td>\n",
       "    </tr>\n",
       "    <tr>\n",
       "      <th>1</th>\n",
       "      <td>Quantum Computing</td>\n",
       "      <td>Lhnaghz Xjzchovib</td>\n",
       "      <td>[21, 13, 13, 13, 13, 13, 13, 13, 21, 21, 13, 1...</td>\n",
       "      <td>Quantum Computing</td>\n",
       "    </tr>\n",
       "    <tr>\n",
       "      <th>2</th>\n",
       "      <td>Hackaton</td>\n",
       "      <td>Vofyohrq</td>\n",
       "      <td>[14, 14, 3, 14, 14, 14, 3, 3]</td>\n",
       "      <td>Hackaton</td>\n",
       "    </tr>\n",
       "    <tr>\n",
       "      <th>3</th>\n",
       "      <td>Aplicando ROTN</td>\n",
       "      <td>Mbxjdmzep SPUO</td>\n",
       "      <td>[12, 12, 12, 1, 1, 12, 12, 1, 1, 12, 1, 1, 1, 1]</td>\n",
       "      <td>Aplicando ROTN</td>\n",
       "    </tr>\n",
       "  </tbody>\n",
       "</table>\n",
       "</div>"
      ],
      "text/plain": [
       "    Palabra oríginal        Palabra ROT  \\\n",
       "0         Hola Mundo         Cjgw Hpizk   \n",
       "1  Quantum Computing  Lhnaghz Xjzchovib   \n",
       "2           Hackaton           Vofyohrq   \n",
       "3     Aplicando ROTN     Mbxjdmzep SPUO   \n",
       "\n",
       "                                           Recorrido   Palabra devuelta  \n",
       "0           [21, 21, 21, 22, 21, 21, 21, 21, 22, 22]         Hola Mundo  \n",
       "1  [21, 13, 13, 13, 13, 13, 13, 13, 21, 21, 13, 1...  Quantum Computing  \n",
       "2                      [14, 14, 3, 14, 14, 14, 3, 3]           Hackaton  \n",
       "3   [12, 12, 12, 1, 1, 12, 12, 1, 1, 12, 1, 1, 1, 1]     Aplicando ROTN  "
      ]
     },
     "execution_count": 12,
     "metadata": {},
     "output_type": "execute_result"
    }
   ],
   "source": [
    "Forest = [getNotRandomClasicBinaryTree(len(words[i]),rand.randint(1,25),rand.randint(1,25)) for i in range(len(words))]\n",
    "ROTTreeWord = [ROTTree(words[i],Forest[i]) for i in range(len(words))]\n",
    "path = [ROTTreeWord[i][1] for i in range(len(words))]\n",
    "ROTWords = [ROTTreeWord[i][0] for i in range(len(words))]\n",
    "invertROTTree = []\n",
    "for i in range(len(words)):\n",
    "    invertROTTree.append(\"\")\n",
    "    for j in range(len(path[i])):\n",
    "        numPath = path[i][j]\n",
    "        invertROTTree[i] += ROT(26-numPath,ROTWords[i][j])\n",
    "datosTree= {\"Palabra oríginal\" : words,\n",
    "            \"Palabra ROT\" : ROTWords,\n",
    "            \"Recorrido\": path,\n",
    "            \"Palabra desencriptada\" : invertROTTree}\n",
    "pd.DataFrame(datosTree)"
   ]
  },
  {
   "cell_type": "markdown",
   "id": "f09d8164",
   "metadata": {},
   "source": [
    "El algoritmo anterior hace más complejo el método de encriptación, para desencriptar la palabra es posible si se conoce el recorrido por el cual se viajó en el árbol, este método de encriptación produce $2^n$ cadenas de texto distintas con $n$ la longitud de la cadena que entra. El método ROT N sin árbol se encuentra contenida en el método propuesto. Sin embargo, este pasa con una menor probabilidad, pues consiste en que se seleccione el mismo lado de las ramas."
   ]
  },
  {
   "cell_type": "markdown",
   "id": "4d38779d",
   "metadata": {},
   "source": [
    "## ROT N Aplicado con un árbol binario con nodos aleatorios\n",
    "\n",
    "A pesar que el método anterior hace más complejo el algoritmo, este método puede ser desarrollado sin necesidad el árbol binario para obtener las palabras encriptadas. Para hacer más complejo el algoritmo se propone un árbol binario con entradas aleatorias, el cuál también genera $2^n$ cadenas de texto distintas con $n$ nuevamente la longitud de la cadena por encriptar, pero este no contiene el método ROT N comentado al inicio.\n",
    "\n",
    "El método se ve a continuación"
   ]
  },
  {
   "cell_type": "code",
   "execution_count": 15,
   "id": "b9d0b23c",
   "metadata": {},
   "outputs": [
    {
     "data": {
      "text/html": [
       "<div>\n",
       "<style scoped>\n",
       "    .dataframe tbody tr th:only-of-type {\n",
       "        vertical-align: middle;\n",
       "    }\n",
       "\n",
       "    .dataframe tbody tr th {\n",
       "        vertical-align: top;\n",
       "    }\n",
       "\n",
       "    .dataframe thead th {\n",
       "        text-align: right;\n",
       "    }\n",
       "</style>\n",
       "<table border=\"1\" class=\"dataframe\">\n",
       "  <thead>\n",
       "    <tr style=\"text-align: right;\">\n",
       "      <th></th>\n",
       "      <th>Palabra oríginal</th>\n",
       "      <th>Palabra ROT</th>\n",
       "      <th>Recorrido</th>\n",
       "      <th>Palabra desencriptada</th>\n",
       "    </tr>\n",
       "  </thead>\n",
       "  <tbody>\n",
       "    <tr>\n",
       "      <th>0</th>\n",
       "      <td>Hola Mundo</td>\n",
       "      <td>Gcso Bnkbv</td>\n",
       "      <td>[25, 14, 7, 14, 23, 15, 19, 23, 24, 7]</td>\n",
       "      <td>Hola Mundo</td>\n",
       "    </tr>\n",
       "    <tr>\n",
       "      <th>1</th>\n",
       "      <td>Quantum Computing</td>\n",
       "      <td>Dsmoadl Ilqfkmozt</td>\n",
       "      <td>[13, 24, 12, 1, 7, 9, 25, 17, 6, 23, 4, 16, 16...</td>\n",
       "      <td>Quantum Computing</td>\n",
       "    </tr>\n",
       "    <tr>\n",
       "      <th>2</th>\n",
       "      <td>Hackaton</td>\n",
       "      <td>Rqeqnwcy</td>\n",
       "      <td>[10, 16, 2, 6, 13, 3, 14, 11]</td>\n",
       "      <td>Hackaton</td>\n",
       "    </tr>\n",
       "    <tr>\n",
       "      <th>3</th>\n",
       "      <td>Aplicando ROTN</td>\n",
       "      <td>Zhnobrkbp VAAU</td>\n",
       "      <td>[25, 18, 2, 6, 25, 17, 23, 24, 1, 15, 4, 12, 7...</td>\n",
       "      <td>Aplicando ROTN</td>\n",
       "    </tr>\n",
       "  </tbody>\n",
       "</table>\n",
       "</div>"
      ],
      "text/plain": [
       "    Palabra oríginal        Palabra ROT  \\\n",
       "0         Hola Mundo         Gcso Bnkbv   \n",
       "1  Quantum Computing  Dsmoadl Ilqfkmozt   \n",
       "2           Hackaton           Rqeqnwcy   \n",
       "3     Aplicando ROTN     Zhnobrkbp VAAU   \n",
       "\n",
       "                                           Recorrido Palabra desencriptada  \n",
       "0             [25, 14, 7, 14, 23, 15, 19, 23, 24, 7]            Hola Mundo  \n",
       "1  [13, 24, 12, 1, 7, 9, 25, 17, 6, 23, 4, 16, 16...     Quantum Computing  \n",
       "2                      [10, 16, 2, 6, 13, 3, 14, 11]              Hackaton  \n",
       "3  [25, 18, 2, 6, 25, 17, 23, 24, 1, 15, 4, 12, 7...        Aplicando ROTN  "
      ]
     },
     "execution_count": 15,
     "metadata": {},
     "output_type": "execute_result"
    }
   ],
   "source": [
    "RandomForest = [getRandomClasicBinaryTree(len(words[i]),1,25) for i in range(len(words))]\n",
    "ROTRandomTreeWord = [ROTTree(words[i],RandomForest[i]) for i in range(len(words))]\n",
    "pathRandom = [ROTRandomTreeWord[i][1] for i in range(len(words))]\n",
    "ROTWordsRandom = [ROTRandomTreeWord[i][0] for i in range(len(words))]\n",
    "invertROTRandomTree = []\n",
    "\n",
    "for i in range(len(words)):\n",
    "    invertROTRandomTree.append(\"\")\n",
    "    for j in range(len(pathRandom[i])):\n",
    "        numPath = pathRandom[i][j]\n",
    "        invertROTRandomTree[i] += ROT(26-numPath,ROTWordsRandom[i][j])\n",
    "        \n",
    "datosRandomTree= {\"Palabra oríginal\" : words,\n",
    "                  \"Palabra ROT\" : ROTWordsRandom ,\n",
    "                  \"Recorrido\": pathRandom,\n",
    "                  \"Palabra desencriptada\" : invertROTRandomTree}\n",
    "pd.DataFrame(datosRandomTree)"
   ]
  },
  {
   "cell_type": "markdown",
   "id": "1e94ffbe",
   "metadata": {},
   "source": [
    "Nuevamente, si se conoce el recorrido por el cual se recorrió el árbol es posible desencriptar el resultado."
   ]
  }
 ],
 "metadata": {
  "kernelspec": {
   "display_name": "Python 3 (ipykernel)",
   "language": "python",
   "name": "python3"
  },
  "language_info": {
   "codemirror_mode": {
    "name": "ipython",
    "version": 3
   },
   "file_extension": ".py",
   "mimetype": "text/x-python",
   "name": "python",
   "nbconvert_exporter": "python",
   "pygments_lexer": "ipython3",
   "version": "3.8.9"
  }
 },
 "nbformat": 4,
 "nbformat_minor": 5
}
