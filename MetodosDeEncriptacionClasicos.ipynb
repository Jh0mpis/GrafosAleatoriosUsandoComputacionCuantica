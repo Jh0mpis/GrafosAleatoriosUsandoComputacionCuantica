{
 "cells": [
  {
   "cell_type": "markdown",
   "id": "0873a277",
   "metadata": {},
   "source": [
    "# Método de encriptación clásica ROT N\n",
    "\n",
    "Uno de los métodos de encriptación más básicos es el ROT13, en este método cada letra de una palabra es cambiada por otra letra que está a una distancia de 13 de sí misma. Este método puede ser extendido a un ROT N, donde se desplaza cada letra de una palabra una distancia N. Por ejemplo:\n",
    "\n",
    "<center>\n",
    "    \n",
    "    Abecedario sin permutar = abcdefghijklmnopqrstuvwxyz, \n",
    "\n",
    "    Abecedario ROT13        = nopqrstuvwxyzabcdefghijklm,\n",
    "\n",
    "    Abecedario ROT5         = fghijklmnopqrstuvwxyzabcde,\n",
    "</center>\n",
    "\n",
    "Un ejemplo de su aplicación se puede ver a continuación"
   ]
  },
  {
   "cell_type": "code",
   "execution_count": 1,
   "id": "c1c82fd8",
   "metadata": {},
   "outputs": [],
   "source": [
    "from util import *\n",
    "import random as rand"
   ]
  },
  {
   "cell_type": "code",
   "execution_count": 2,
   "id": "9dd74da2",
   "metadata": {},
   "outputs": [
    {
     "name": "stdout",
     "output_type": "stream",
     "text": [
      "N = 9 \t || Palabra oríginal = Hola Mundo \t || Palabra ROT(9) =  Qxuj Vdwmx\n",
      "N = 13 \t || Palabra oríginal = Quantum Computing \t || Palabra ROT(13) =  Dhnaghz Pbzchgvat\n",
      "N = 3 \t || Palabra oríginal = Hackaton \t || Palabra ROT(3) =  Kdfndwrq\n",
      "N = 7 \t || Palabra oríginal = Aplicando ROTN \t || Palabra ROT(7) =  Hwspjhukv YVAU\n"
     ]
    }
   ],
   "source": [
    "words = [\"Hola Mundo\", \"Quantum Computing\", \"Hackaton\", \"Aplicando ROTN\"]\n",
    "n = [rand.randint(1,26) for i in words]\n",
    "ROTWords = [ROT(n[i],words[i]) for i in range(len(n))]\n",
    "for i in range(len(n)):\n",
    "    print(f\"N = {n[i]} \\t || Palabra oríginal = {words[i]} \\t || Palabra ROT({n[i]}) =  {ROTWords[i]}\")"
   ]
  },
  {
   "cell_type": "markdown",
   "id": "99bc16cd",
   "metadata": {},
   "source": [
    "Si bien el algóritmo es sencillo, este puede complicarse haciendo uso de árboles binarios con profundidad $n+1$ con n la longitud de la palabra. El método consiste en almacenar en cada nodo del árbol binario un número entero el cual define el ROT que se aplicará a cada elemento de la cadena de texto original, haciendo esto más complejo el algóritmo."
   ]
  },
  {
   "cell_type": "markdown",
   "id": "5848072f",
   "metadata": {},
   "source": [
    "A continuación, se aplicará el método con un árbol binario cuyos nodos no contienen un número entero aleatorio sino que todos los nodos que estén al mismo lado de la correspondiente raiz tienen el mismo número entero asignado."
   ]
  },
  {
   "cell_type": "code",
   "execution_count": 4,
   "id": "f407108f",
   "metadata": {},
   "outputs": [
    {
     "ename": "KeyboardInterrupt",
     "evalue": "",
     "output_type": "error",
     "traceback": [
      "\u001b[1;31m---------------------------------------------------------------------------\u001b[0m",
      "\u001b[1;31mKeyboardInterrupt\u001b[0m                         Traceback (most recent call last)",
      "Input \u001b[1;32mIn [4]\u001b[0m, in \u001b[0;36m<cell line: 2>\u001b[1;34m()\u001b[0m\n\u001b[0;32m      1\u001b[0m nums \u001b[38;5;241m=\u001b[39m [rand\u001b[38;5;241m.\u001b[39mrandint(\u001b[38;5;241m1\u001b[39m,\u001b[38;5;241m12\u001b[39m),rand\u001b[38;5;241m.\u001b[39mrandint(\u001b[38;5;241m13\u001b[39m,\u001b[38;5;241m26\u001b[39m)]\n\u001b[1;32m----> 2\u001b[0m Forest \u001b[38;5;241m=\u001b[39m [getNotRandomClasicBinaryTree(\u001b[38;5;28mlen\u001b[39m(words[i]),nums[\u001b[38;5;241m0\u001b[39m],nums[\u001b[38;5;241m1\u001b[39m]) \u001b[38;5;28;01mfor\u001b[39;00m i \u001b[38;5;129;01min\u001b[39;00m \u001b[38;5;28mrange\u001b[39m(\u001b[38;5;28mlen\u001b[39m(words))]\n\u001b[0;32m      3\u001b[0m ROTTreeWord \u001b[38;5;241m=\u001b[39m [ROTTree(words[i],Forest[i]) \u001b[38;5;28;01mfor\u001b[39;00m i \u001b[38;5;129;01min\u001b[39;00m \u001b[38;5;28mrange\u001b[39m(\u001b[38;5;28mlen\u001b[39m(words))]\n",
      "Input \u001b[1;32mIn [4]\u001b[0m, in \u001b[0;36m<listcomp>\u001b[1;34m(.0)\u001b[0m\n\u001b[0;32m      1\u001b[0m nums \u001b[38;5;241m=\u001b[39m [rand\u001b[38;5;241m.\u001b[39mrandint(\u001b[38;5;241m1\u001b[39m,\u001b[38;5;241m12\u001b[39m),rand\u001b[38;5;241m.\u001b[39mrandint(\u001b[38;5;241m13\u001b[39m,\u001b[38;5;241m26\u001b[39m)]\n\u001b[1;32m----> 2\u001b[0m Forest \u001b[38;5;241m=\u001b[39m [\u001b[43mgetNotRandomClasicBinaryTree\u001b[49m\u001b[43m(\u001b[49m\u001b[38;5;28;43mlen\u001b[39;49m\u001b[43m(\u001b[49m\u001b[43mwords\u001b[49m\u001b[43m[\u001b[49m\u001b[43mi\u001b[49m\u001b[43m]\u001b[49m\u001b[43m)\u001b[49m\u001b[43m,\u001b[49m\u001b[43mnums\u001b[49m\u001b[43m[\u001b[49m\u001b[38;5;241;43m0\u001b[39;49m\u001b[43m]\u001b[49m\u001b[43m,\u001b[49m\u001b[43mnums\u001b[49m\u001b[43m[\u001b[49m\u001b[38;5;241;43m1\u001b[39;49m\u001b[43m]\u001b[49m\u001b[43m)\u001b[49m \u001b[38;5;28;01mfor\u001b[39;00m i \u001b[38;5;129;01min\u001b[39;00m \u001b[38;5;28mrange\u001b[39m(\u001b[38;5;28mlen\u001b[39m(words))]\n\u001b[0;32m      3\u001b[0m ROTTreeWord \u001b[38;5;241m=\u001b[39m [ROTTree(words[i],Forest[i]) \u001b[38;5;28;01mfor\u001b[39;00m i \u001b[38;5;129;01min\u001b[39;00m \u001b[38;5;28mrange\u001b[39m(\u001b[38;5;28mlen\u001b[39m(words))]\n",
      "File \u001b[1;32mD:\\Proyectos\\GrafosAleatoriosUsandoComputacionCuantica\\util.py:33\u001b[0m, in \u001b[0;36mgetNotRandomClasicBinaryTree\u001b[1;34m(height, intLeft, intRight)\u001b[0m\n\u001b[0;32m     31\u001b[0m tree\u001b[38;5;241m.\u001b[39maddKey(\u001b[38;5;241m0\u001b[39m)\n\u001b[0;32m     32\u001b[0m \u001b[38;5;28;01mfor\u001b[39;00m i \u001b[38;5;129;01min\u001b[39;00m \u001b[38;5;28mrange\u001b[39m(\u001b[38;5;28mint\u001b[39m((numOfElements\u001b[38;5;241m-\u001b[39m\u001b[38;5;241m1\u001b[39m)\u001b[38;5;241m/\u001b[39m\u001b[38;5;241m2\u001b[39m)):\n\u001b[1;32m---> 33\u001b[0m     \u001b[43mtree\u001b[49m\u001b[38;5;241;43m.\u001b[39;49m\u001b[43maddKey\u001b[49m\u001b[43m(\u001b[49m\u001b[43mintLeft\u001b[49m\u001b[43m)\u001b[49m\n\u001b[0;32m     34\u001b[0m     tree\u001b[38;5;241m.\u001b[39maddKey(intRight)\n\u001b[0;32m     35\u001b[0m \u001b[38;5;28;01mreturn\u001b[39;00m tree\n",
      "File \u001b[1;32mD:\\Proyectos\\GrafosAleatoriosUsandoComputacionCuantica\\dataStructures.py:322\u001b[0m, in \u001b[0;36mBinaryTree.addKey\u001b[1;34m(self, key)\u001b[0m\n\u001b[0;32m    320\u001b[0m     \u001b[38;5;28;01mbreak\u001b[39;00m\n\u001b[0;32m    321\u001b[0m \u001b[38;5;28;01melse\u001b[39;00m: \n\u001b[1;32m--> 322\u001b[0m     \u001b[43mqueue\u001b[49m\u001b[38;5;241;43m.\u001b[39;49m\u001b[43msuperEnqueue\u001b[49m\u001b[43m(\u001b[49m\u001b[43mcurrent\u001b[49m\u001b[38;5;241;43m.\u001b[39;49m\u001b[43mleft\u001b[49m\u001b[43m,\u001b[49m\u001b[43m \u001b[49m\u001b[43mcurrent\u001b[49m\u001b[38;5;241;43m.\u001b[39;49m\u001b[43mright\u001b[49m\u001b[43m)\u001b[49m\n\u001b[0;32m    323\u001b[0m count \u001b[38;5;241m+\u001b[39m\u001b[38;5;241m=\u001b[39m \u001b[38;5;241m1\u001b[39m\n",
      "File \u001b[1;32mD:\\Proyectos\\GrafosAleatoriosUsandoComputacionCuantica\\dataStructures.py:283\u001b[0m, in \u001b[0;36mQueue.superEnqueue\u001b[1;34m(self, *args)\u001b[0m\n\u001b[0;32m    281\u001b[0m \u001b[38;5;28;01mdef\u001b[39;00m \u001b[38;5;21msuperEnqueue\u001b[39m(\u001b[38;5;28mself\u001b[39m, \u001b[38;5;241m*\u001b[39margs):\n\u001b[0;32m    282\u001b[0m     \u001b[38;5;28;01mfor\u001b[39;00m i \u001b[38;5;129;01min\u001b[39;00m args:\n\u001b[1;32m--> 283\u001b[0m         \u001b[38;5;28mself\u001b[39m\u001b[38;5;241m.\u001b[39menqueue(i)\n",
      "\u001b[1;31mKeyboardInterrupt\u001b[0m: "
     ]
    }
   ],
   "source": [
    "nums = [rand.randint(1,12),rand.randint(13,26)]\n",
    "Forest = [getNotRandomClasicBinaryTree(len(words[i]),nums[0],nums[1]) for i in range(len(words))]\n",
    "ROTTreeWord = [ROTTree(words[i],Forest[i]) for i in range(len(words))]"
   ]
  },
  {
   "cell_type": "code",
   "execution_count": null,
   "id": "8730d3ca",
   "metadata": {},
   "outputs": [],
   "source": [
    "for i in range(len(words)):\n",
    "    print(f\"Palabra oríginal = {words[i]} \\t || Palabra ROT = {ROTTreeWord[i][0]} \\t || Recorrido = {ROTTreeWord[i][1]}\")"
   ]
  },
  {
   "cell_type": "code",
   "execution_count": null,
   "id": "b9d0b23c",
   "metadata": {},
   "outputs": [],
   "source": [
    "RandomForest = [getRandomClasicBinaryTree(len(words[i]),1,26) for i in range(len(words))]\n",
    "ROTRandomTreeWord = [ROTTree(words[i],RandomForest[i]) for i in range(len(words))]"
   ]
  },
  {
   "cell_type": "code",
   "execution_count": null,
   "id": "a19f10a6",
   "metadata": {},
   "outputs": [],
   "source": [
    "for i in range(len(words)):\n",
    "    print(f\"Palabra oríginal = {words[i]} \\t || Palabra ROT = {ROTRandomTreeWord[i][0]} \\t || Recorrido = {ROTRandomTreeWord[i][1]}\")"
   ]
  }
 ],
 "metadata": {
  "kernelspec": {
   "display_name": "Python 3 (ipykernel)",
   "language": "python",
   "name": "python3"
  },
  "language_info": {
   "codemirror_mode": {
    "name": "ipython",
    "version": 3
   },
   "file_extension": ".py",
   "mimetype": "text/x-python",
   "name": "python",
   "nbconvert_exporter": "python",
   "pygments_lexer": "ipython3",
   "version": "3.8.9"
  }
 },
 "nbformat": 4,
 "nbformat_minor": 5
}
